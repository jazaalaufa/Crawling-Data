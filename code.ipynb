{
  "cells": [
    {
      "cell_type": "markdown",
      "metadata": {
        "id": "BbBP2DEyXTtX"
      },
      "source": [
        "# CRAWLING DATA TWITTER MENGGUNAKAN TWEEPY PYTHON LIBABRY\n",
        "\n",
        "ANGGOTA KELOMPOK \n",
        "1. Fitrah Amaliah           (18051204007)\n",
        "2. Muhammad Jazaal Aufa     (18051204013)\n",
        "3. M. Fikri Rizki Romadhoni (18051204060)"
      ]
    },
    {
      "cell_type": "markdown",
      "metadata": {
        "id": "Bc545J04XTtd"
      },
      "source": [
        "## Mendapatkan API Key\n",
        "\n",
        "Sebelum melakukan proses crawling data kita perlu membuat client aplikasi untuk consumer key serta secret key. Create aplikasi hanya bisa dilakukan jika kita membuat atau memiliki akun [Twitter Developer](https://developer.twitter.com/). Pastikan kita memiliki akun Twitter sebelum membuat akun **Twitter Developer**"
      ]
    },
    {
      "cell_type": "markdown",
      "metadata": {
        "id": "fDPg9eY-XTtf"
      },
      "source": [
        "## Library Tweepy\n",
        "\n",
        "Untuk dapat berkomunikasi dengan API twitter kita akan menggunakan library python yaitu **Tweepy**. Library tweepy adalah suatu API yang disediakan oleh pihak Twitter untuk dapat mengakses dan mengambil data-data yang ada di dalam Twitter menggunakan bahasa pemrograman Phyton. Selain Tweepy masih ada beberapa library python lainnya seperti (Twython, TwitterSeacrh, dan lain-lain). \n",
        "\n",
        "Langkah awal kita perlu instal library tweepy dengan cara : `pip install tweepy` pada environment yang kita gunakan. Kemudian import library tweepy tersebut"
      ]
    },
    {
      "cell_type": "code",
      "execution_count": 1,
      "metadata": {
        "id": "EXj45BmqXTtg"
      },
      "outputs": [],
      "source": [
        "import tweepy\n",
        "import pandas as pd\n",
        "import csv"
      ]
    },
    {
      "cell_type": "markdown",
      "metadata": {
        "id": "1f-89HgqXTtj"
      },
      "source": [
        "Buat variable untuk memasukkan API Key yang berhasil didapatkan ketika mendaftar, API Key digunakan untuk proses autentikasi.\n",
        "`consumer_key = \" \"`"
      ]
    },
    {
      "cell_type": "code",
      "execution_count": 2,
      "metadata": {
        "id": "F4jmQzDDXTt1"
      },
      "outputs": [],
      "source": [
        "access_token        = '4622594292-WtV5CV9HTDNWedxbFXHgSms8B6JpveaN9SSs5X0'\n",
        "access_token_secret = 'PI1DIe0JOizKwPmRXlJe3xZfpPe2RSsZ8LjxDVYT8VrWR'\n",
        "api_key             = 'tgiUQ8yhztOycWWSMnuQDCZ0b'\n",
        "api_key_secret      = 'r2PjpjNCYzIIxyO15gQOCysDPfmXRBje94cVoB4A9fUmVoHINT'"
      ]
    },
    {
      "cell_type": "code",
      "execution_count": 3,
      "metadata": {
        "id": "klNYI2d3XTt2"
      },
      "outputs": [],
      "source": [
        "#Auntetikasi\n",
        "auth = tweepy.OAuthHandler(api_key, api_key_secret)\n",
        "auth.set_access_token(access_token, access_token_secret)"
      ]
    },
    {
      "cell_type": "markdown",
      "metadata": {
        "id": "B0q813PSXTt4"
      },
      "source": [
        "## API Search\n",
        "\n",
        "Sebagai contoh kita ingin crawling data twitter dengan kata kunci **#thomascup** dengan tweet yang dibuat pada antara tanggal 01 Oktober 2021 s/d 25 Oktober 2021 dengan maksimal jumlah tweet adalah 100, kita juga akan exluced retweet, sehingga retweet tidak akan di tampilkan. Lalu hasil crawling akan disimpan dengan format .csv"
      ]
    },
    {
      "cell_type": "code",
      "execution_count": 4,
      "metadata": {
        "id": "19xmHLCyXTt7"
      },
      "outputs": [],
      "source": [
        "#API Search\n",
        "api = tweepy.API(auth, wait_on_rate_limit=True)\n",
        "search_key = '#thomascup'"
      ]
    },
    {
      "cell_type": "code",
      "execution_count": 5,
      "metadata": {
        "id": "tyk8YyKuXTt8"
      },
      "outputs": [],
      "source": [
        "#Membuat file .csv\n",
        "csvFile  = open(search_key + '.csv', 'a+', newline='', encoding=\"utf-8\")\n",
        "\n",
        "#Use csv writer\n",
        "csvWriter = csv.writer(csvFile) "
      ]
    },
    {
      "cell_type": "code",
      "execution_count": 6,
      "metadata": {
        "id": "JCr8pQ35XTt9"
      },
      "outputs": [
        {
          "ename": "AttributeError",
          "evalue": "'API' object has no attribute 'search'",
          "output_type": "error",
          "traceback": [
            "\u001b[1;31m---------------------------------------------------------------------------\u001b[0m",
            "\u001b[1;31mAttributeError\u001b[0m                            Traceback (most recent call last)",
            "\u001b[1;32m~\\AppData\\Local\\Temp/ipykernel_8320/4172407545.py\u001b[0m in \u001b[0;36m<module>\u001b[1;34m\u001b[0m\n\u001b[0;32m      5\u001b[0m \u001b[0mtext\u001b[0m  \u001b[1;33m=\u001b[0m\u001b[1;33m[\u001b[0m\u001b[1;33m]\u001b[0m\u001b[1;33m\u001b[0m\u001b[1;33m\u001b[0m\u001b[0m\n\u001b[0;32m      6\u001b[0m \u001b[1;33m\u001b[0m\u001b[0m\n\u001b[1;32m----> 7\u001b[1;33m \u001b[1;32mfor\u001b[0m \u001b[0mtweet\u001b[0m \u001b[1;32min\u001b[0m \u001b[0mtweepy\u001b[0m\u001b[1;33m.\u001b[0m\u001b[0mCursor\u001b[0m\u001b[1;33m(\u001b[0m\u001b[0mapi\u001b[0m\u001b[1;33m.\u001b[0m\u001b[0msearch\u001b[0m\u001b[1;33m,\u001b[0m \u001b[0mq\u001b[0m\u001b[1;33m=\u001b[0m\u001b[0msearch_key\u001b[0m\u001b[1;33m,\u001b[0m \u001b[0mtweet_mode\u001b[0m\u001b[1;33m=\u001b[0m\u001b[1;34m'extended'\u001b[0m\u001b[1;33m,\u001b[0m\u001b[0mlang\u001b[0m\u001b[1;33m=\u001b[0m\u001b[1;34m\"id\"\u001b[0m\u001b[1;33m,\u001b[0m \u001b[0msince\u001b[0m\u001b[1;33m=\u001b[0m\u001b[1;34m'2021-10-01'\u001b[0m\u001b[1;33m,\u001b[0m \u001b[0muntil\u001b[0m\u001b[1;33m=\u001b[0m\u001b[1;34m'2021-10-25'\u001b[0m\u001b[1;33m)\u001b[0m\u001b[1;33m.\u001b[0m\u001b[0mitems\u001b[0m\u001b[1;33m(\u001b[0m\u001b[1;36m100\u001b[0m\u001b[1;33m)\u001b[0m\u001b[1;33m:\u001b[0m\u001b[1;33m\u001b[0m\u001b[1;33m\u001b[0m\u001b[0m\n\u001b[0m\u001b[0;32m      8\u001b[0m     \u001b[0mwaktu\u001b[0m     \u001b[1;33m=\u001b[0m \u001b[0mtime\u001b[0m\u001b[1;33m.\u001b[0m\u001b[0mappend\u001b[0m\u001b[1;33m(\u001b[0m\u001b[0mtweet\u001b[0m\u001b[1;33m.\u001b[0m\u001b[0mcreated_at\u001b[0m\u001b[1;33m)\u001b[0m\u001b[1;33m\u001b[0m\u001b[1;33m\u001b[0m\u001b[0m\n\u001b[0;32m      9\u001b[0m     \u001b[0mno_id\u001b[0m     \u001b[1;33m=\u001b[0m \u001b[0mid\u001b[0m\u001b[1;33m.\u001b[0m\u001b[0mappend\u001b[0m\u001b[1;33m(\u001b[0m\u001b[0mtweet\u001b[0m\u001b[1;33m.\u001b[0m\u001b[0mid\u001b[0m\u001b[1;33m)\u001b[0m\u001b[1;33m\u001b[0m\u001b[1;33m\u001b[0m\u001b[0m\n",
            "\u001b[1;31mAttributeError\u001b[0m: 'API' object has no attribute 'search'"
          ]
        }
      ],
      "source": [
        "#Perulangan\n",
        "time  =[]\n",
        "id    =[]\n",
        "user  =[]\n",
        "text  =[]\n",
        "\n",
        "for tweet in tweepy.Cursor(api.search, q=search_key, tweet_mode='extended',lang=\"id\", since='2021-10-01', until='2021-10-25').items(100):\n",
        "    waktu     = time.append(tweet.created_at)\n",
        "    no_id     = id.append(tweet.id)\n",
        "    username  = user.append(tweet.user.name)\n",
        "    ketrangan = text.append(tweet.full_text.encode('utf-8'))\n",
        "\n",
        "\n",
        "    csvWriter.writerow([waktu, id, user, ketrangan])"
      ]
    },
    {
      "cell_type": "markdown",
      "metadata": {
        "id": "xoRBqe8lXTuA"
      },
      "source": [
        "## DataFrame"
      ]
    },
    {
      "cell_type": "code",
      "execution_count": null,
      "metadata": {
        "colab": {
          "base_uri": "https://localhost:8080/",
          "height": 414
        },
        "id": "Y2ACesXzXTuA",
        "outputId": "0399622e-b06f-4380-b6c5-08a59db9af42"
      },
      "outputs": [
        {
          "data": {
            "text/html": [
              "<div>\n",
              "<style scoped>\n",
              "    .dataframe tbody tr th:only-of-type {\n",
              "        vertical-align: middle;\n",
              "    }\n",
              "\n",
              "    .dataframe tbody tr th {\n",
              "        vertical-align: top;\n",
              "    }\n",
              "\n",
              "    .dataframe thead th {\n",
              "        text-align: right;\n",
              "    }\n",
              "</style>\n",
              "<table border=\"1\" class=\"dataframe\">\n",
              "  <thead>\n",
              "    <tr style=\"text-align: right;\">\n",
              "      <th></th>\n",
              "      <th>time</th>\n",
              "      <th>id</th>\n",
              "      <th>username</th>\n",
              "      <th>text</th>\n",
              "    </tr>\n",
              "  </thead>\n",
              "  <tbody>\n",
              "    <tr>\n",
              "      <th>0</th>\n",
              "      <td>2021-10-24 22:36:33</td>\n",
              "      <td>1452403667143852034</td>\n",
              "      <td>Awan</td>\n",
              "      <td>b'RT @IndiHome: Untuk pelanggan lainnya, Kamu ...</td>\n",
              "    </tr>\n",
              "    <tr>\n",
              "      <th>1</th>\n",
              "      <td>2021-10-24 14:55:49</td>\n",
              "      <td>1452287722375221250</td>\n",
              "      <td>Saturnine-r 🇲🇾</td>\n",
              "      <td>b'RT @TeamMsia: Zii Jia buat lagi! \\xf0\\x9f\\x8...</td>\n",
              "    </tr>\n",
              "    <tr>\n",
              "      <th>2</th>\n",
              "      <td>2021-10-24 14:28:29</td>\n",
              "      <td>1452280842210979848</td>\n",
              "      <td>🇲🇨18RA🇲🇨</td>\n",
              "      <td>b'RT @INABadminton: Rasa bangga yang tak terlu...</td>\n",
              "    </tr>\n",
              "    <tr>\n",
              "      <th>3</th>\n",
              "      <td>2021-10-24 14:23:51</td>\n",
              "      <td>1452279674940317699</td>\n",
              "      <td>EOA Water</td>\n",
              "      <td>b'Peningkatan kedua aktivitas tersebut dapat d...</td>\n",
              "    </tr>\n",
              "    <tr>\n",
              "      <th>4</th>\n",
              "      <td>2021-10-24 14:00:20</td>\n",
              "      <td>1452273759566581778</td>\n",
              "      <td>.</td>\n",
              "      <td>b'RT @INABadminton: Rasa bangga yang tak terlu...</td>\n",
              "    </tr>\n",
              "    <tr>\n",
              "      <th>...</th>\n",
              "      <td>...</td>\n",
              "      <td>...</td>\n",
              "      <td>...</td>\n",
              "      <td>...</td>\n",
              "    </tr>\n",
              "    <tr>\n",
              "      <th>95</th>\n",
              "      <td>2021-10-22 12:16:45</td>\n",
              "      <td>1451522913790685187</td>\n",
              "      <td>awaaaaaaa</td>\n",
              "      <td>b'RT @INABadminton: Rasa bangga yang tak terlu...</td>\n",
              "    </tr>\n",
              "    <tr>\n",
              "      <th>96</th>\n",
              "      <td>2021-10-22 12:16:03</td>\n",
              "      <td>1451522740050038787</td>\n",
              "      <td>WellFredd</td>\n",
              "      <td>b'RT @INABadminton: Rasa bangga yang tak terlu...</td>\n",
              "    </tr>\n",
              "    <tr>\n",
              "      <th>97</th>\n",
              "      <td>2021-10-22 12:07:34</td>\n",
              "      <td>1451520603295399941</td>\n",
              "      <td>myself|cek pinned</td>\n",
              "      <td>b'RT @Destangreys: Hari istimewa di Ceres Aren...</td>\n",
              "    </tr>\n",
              "    <tr>\n",
              "      <th>98</th>\n",
              "      <td>2021-10-22 12:04:44</td>\n",
              "      <td>1451519890179780611</td>\n",
              "      <td>pj</td>\n",
              "      <td>b'RT @alfianto_ian: Ini Kevin/Marcus yg kita k...</td>\n",
              "    </tr>\n",
              "    <tr>\n",
              "      <th>99</th>\n",
              "      <td>2021-10-22 12:02:34</td>\n",
              "      <td>1451519344593231873</td>\n",
              "      <td>manda</td>\n",
              "      <td>b'RT @Destangreys: Hari istimewa di Ceres Aren...</td>\n",
              "    </tr>\n",
              "  </tbody>\n",
              "</table>\n",
              "<p>100 rows × 4 columns</p>\n",
              "</div>"
            ],
            "text/plain": [
              "                  time  ...                                               text\n",
              "0  2021-10-24 22:36:33  ...  b'RT @IndiHome: Untuk pelanggan lainnya, Kamu ...\n",
              "1  2021-10-24 14:55:49  ...  b'RT @TeamMsia: Zii Jia buat lagi! \\xf0\\x9f\\x8...\n",
              "2  2021-10-24 14:28:29  ...  b'RT @INABadminton: Rasa bangga yang tak terlu...\n",
              "3  2021-10-24 14:23:51  ...  b'Peningkatan kedua aktivitas tersebut dapat d...\n",
              "4  2021-10-24 14:00:20  ...  b'RT @INABadminton: Rasa bangga yang tak terlu...\n",
              "..                 ...  ...                                                ...\n",
              "95 2021-10-22 12:16:45  ...  b'RT @INABadminton: Rasa bangga yang tak terlu...\n",
              "96 2021-10-22 12:16:03  ...  b'RT @INABadminton: Rasa bangga yang tak terlu...\n",
              "97 2021-10-22 12:07:34  ...  b'RT @Destangreys: Hari istimewa di Ceres Aren...\n",
              "98 2021-10-22 12:04:44  ...  b'RT @alfianto_ian: Ini Kevin/Marcus yg kita k...\n",
              "99 2021-10-22 12:02:34  ...  b'RT @Destangreys: Hari istimewa di Ceres Aren...\n",
              "\n",
              "[100 rows x 4 columns]"
            ]
          },
          "execution_count": 21,
          "metadata": {},
          "output_type": "execute_result"
        }
      ],
      "source": [
        "#Menampilkan dataFrame\n",
        "\n",
        "dictTweet = {'time':time, 'id':id, 'username':user, 'text':text}\n",
        "pd.DataFrame(dictTweet)"
      ]
    }
  ],
  "metadata": {
    "colab": {
      "name": "code.ipynb",
      "provenance": []
    },
    "interpreter": {
      "hash": "2647ea34e536f865ab67ff9ddee7fd78773d956cec0cab53c79b32cd10da5d83"
    },
    "kernelspec": {
      "display_name": "Python 3.9.7 64-bit",
      "name": "python3"
    },
    "language_info": {
      "codemirror_mode": {
        "name": "ipython",
        "version": 3
      },
      "file_extension": ".py",
      "mimetype": "text/x-python",
      "name": "python",
      "nbconvert_exporter": "python",
      "pygments_lexer": "ipython3",
      "version": "3.9.7"
    },
    "orig_nbformat": 4
  },
  "nbformat": 4,
  "nbformat_minor": 0
}
